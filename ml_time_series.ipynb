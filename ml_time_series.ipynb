{
 "cells": [
  {
   "cell_type": "markdown",
   "metadata": {
    "id": "iiG-sbS9zHzW"
   },
   "source": [
    "# Парсинг и обработка данных"
   ]
  },
  {
   "cell_type": "code",
   "execution_count": 1,
   "metadata": {
    "colab": {
     "base_uri": "https://localhost:8080/",
     "height": 512
    },
    "id": "xj5dqELf8xNG",
    "outputId": "b1536a21-5acd-47ee-aea4-2e63c1081ac6"
   },
   "outputs": [
    {
     "name": "stdout",
     "output_type": "stream",
     "text": [
      "Requirement already satisfied: yfinance in c:\\users\\d5u5d\\anaconda3\\lib\\site-packages (0.1.70)\n",
      "Requirement already satisfied: pandas>=0.24.0 in c:\\users\\d5u5d\\anaconda3\\lib\\site-packages (from yfinance) (1.3.4)\n",
      "Requirement already satisfied: numpy>=1.15 in c:\\users\\d5u5d\\anaconda3\\lib\\site-packages (from yfinance) (1.20.3)\n",
      "Requirement already satisfied: lxml>=4.5.1 in c:\\users\\d5u5d\\anaconda3\\lib\\site-packages (from yfinance) (4.6.3)\n",
      "Requirement already satisfied: requests>=2.26 in c:\\users\\d5u5d\\anaconda3\\lib\\site-packages (from yfinance) (2.26.0)\n",
      "Requirement already satisfied: multitasking>=0.0.7 in c:\\users\\d5u5d\\anaconda3\\lib\\site-packages (from yfinance) (0.0.10)\n",
      "Requirement already satisfied: python-dateutil>=2.7.3 in c:\\users\\d5u5d\\anaconda3\\lib\\site-packages (from pandas>=0.24.0->yfinance) (2.8.2)\n",
      "Requirement already satisfied: pytz>=2017.3 in c:\\users\\d5u5d\\anaconda3\\lib\\site-packages (from pandas>=0.24.0->yfinance) (2021.3)\n",
      "Requirement already satisfied: six>=1.5 in c:\\users\\d5u5d\\anaconda3\\lib\\site-packages (from python-dateutil>=2.7.3->pandas>=0.24.0->yfinance) (1.16.0)\n",
      "Requirement already satisfied: charset-normalizer~=2.0.0 in c:\\users\\d5u5d\\anaconda3\\lib\\site-packages (from requests>=2.26->yfinance) (2.0.4)\n",
      "Requirement already satisfied: urllib3<1.27,>=1.21.1 in c:\\users\\d5u5d\\anaconda3\\lib\\site-packages (from requests>=2.26->yfinance) (1.26.7)\n",
      "Requirement already satisfied: idna<4,>=2.5 in c:\\users\\d5u5d\\anaconda3\\lib\\site-packages (from requests>=2.26->yfinance) (3.2)\n",
      "Requirement already satisfied: certifi>=2017.4.17 in c:\\users\\d5u5d\\anaconda3\\lib\\site-packages (from requests>=2.26->yfinance) (2021.10.8)\n"
     ]
    },
    {
     "data": {
      "text/plain": [
       "<AxesSubplot:xlabel='Date'>"
      ]
     },
     "execution_count": 1,
     "metadata": {},
     "output_type": "execute_result"
    },
    {
     "data": {
      "image/png": "[encoded data removed]",
      "text/plain": [
       "<Figure size 432x288 with 1 Axes>"
      ]
     },
     "metadata": {
      "needs_background": "light"
     },
     "output_type": "display_data"
    }
   ],
   "source": [
    "!pip install yfinance\n",
    "import yfinance as yf\n",
    "tickerSymbol = 'KO'\n",
    "\n",
    "tickerData = yf.Ticker(tickerSymbol)\n",
    "\n",
    "tickerDf = tickerData.history(period='max')\n",
    "tickerDf.Close.plot()"
   ]
  },
  {
   "cell_type": "markdown",
   "metadata": {
    "id": "GEQ8KmfvzOhD"
   },
   "source": [
    "# Генерация лаговых фичей"
   ]
  },
  {
   "cell_type": "code",
   "execution_count": 2,
   "metadata": {
    "colab": {
     "base_uri": "https://localhost:8080/",
     "height": 237
    },
    "id": "1sZX2YAQB44D",
    "outputId": "e3a63e3a-9859-4eb8-fd9a-ebfa5e91db40"
   },
   "outputs": [
    {
     "data": {
      "text/html": [
       "<div>\n",
       "<style scoped>\n",
       "    .dataframe tbody tr th:only-of-type {\n",
       "        vertical-align: middle;\n",
       "    }\n",
       "\n",
       "    .dataframe tbody tr th {\n",
       "        vertical-align: top;\n",
       "    }\n",
       "\n",
       "    .dataframe thead th {\n",
       "        text-align: right;\n",
       "    }\n",
       "</style>\n",
       "<table border=\"1\" class=\"dataframe\">\n",
       "  <thead>\n",
       "    <tr style=\"text-align: right;\">\n",
       "      <th></th>\n",
       "      <th>Close</th>\n",
       "      <th>shift_1</th>\n",
       "      <th>shift_2</th>\n",
       "      <th>shift_3</th>\n",
       "      <th>shift_4</th>\n",
       "      <th>shift_5</th>\n",
       "      <th>shift_6</th>\n",
       "      <th>shift_7</th>\n",
       "      <th>shift_8</th>\n",
       "      <th>shift_9</th>\n",
       "      <th>shift_10</th>\n",
       "    </tr>\n",
       "    <tr>\n",
       "      <th>Date</th>\n",
       "      <th></th>\n",
       "      <th></th>\n",
       "      <th></th>\n",
       "      <th></th>\n",
       "      <th></th>\n",
       "      <th></th>\n",
       "      <th></th>\n",
       "      <th></th>\n",
       "      <th></th>\n",
       "      <th></th>\n",
       "      <th></th>\n",
       "    </tr>\n",
       "  </thead>\n",
       "  <tbody>\n",
       "    <tr>\n",
       "      <th>1962-01-16</th>\n",
       "      <td>0.048058</td>\n",
       "      <td>0.048934</td>\n",
       "      <td>0.049434</td>\n",
       "      <td>0.049810</td>\n",
       "      <td>0.049309</td>\n",
       "      <td>0.049059</td>\n",
       "      <td>0.048183</td>\n",
       "      <td>0.048684</td>\n",
       "      <td>0.049810</td>\n",
       "      <td>0.049434</td>\n",
       "      <td>0.050561</td>\n",
       "    </tr>\n",
       "    <tr>\n",
       "      <th>1962-01-17</th>\n",
       "      <td>0.046556</td>\n",
       "      <td>0.048058</td>\n",
       "      <td>0.048934</td>\n",
       "      <td>0.049434</td>\n",
       "      <td>0.049810</td>\n",
       "      <td>0.049309</td>\n",
       "      <td>0.049059</td>\n",
       "      <td>0.048183</td>\n",
       "      <td>0.048684</td>\n",
       "      <td>0.049810</td>\n",
       "      <td>0.049434</td>\n",
       "    </tr>\n",
       "    <tr>\n",
       "      <th>1962-01-18</th>\n",
       "      <td>0.045617</td>\n",
       "      <td>0.046556</td>\n",
       "      <td>0.048058</td>\n",
       "      <td>0.048934</td>\n",
       "      <td>0.049434</td>\n",
       "      <td>0.049810</td>\n",
       "      <td>0.049309</td>\n",
       "      <td>0.049059</td>\n",
       "      <td>0.048183</td>\n",
       "      <td>0.048684</td>\n",
       "      <td>0.049810</td>\n",
       "    </tr>\n",
       "    <tr>\n",
       "      <th>1962-01-19</th>\n",
       "      <td>0.047057</td>\n",
       "      <td>0.045617</td>\n",
       "      <td>0.046556</td>\n",
       "      <td>0.048058</td>\n",
       "      <td>0.048934</td>\n",
       "      <td>0.049434</td>\n",
       "      <td>0.049810</td>\n",
       "      <td>0.049309</td>\n",
       "      <td>0.049059</td>\n",
       "      <td>0.048183</td>\n",
       "      <td>0.048684</td>\n",
       "    </tr>\n",
       "    <tr>\n",
       "      <th>1962-01-22</th>\n",
       "      <td>0.047432</td>\n",
       "      <td>0.047057</td>\n",
       "      <td>0.045617</td>\n",
       "      <td>0.046556</td>\n",
       "      <td>0.048058</td>\n",
       "      <td>0.048934</td>\n",
       "      <td>0.049434</td>\n",
       "      <td>0.049810</td>\n",
       "      <td>0.049309</td>\n",
       "      <td>0.049059</td>\n",
       "      <td>0.048183</td>\n",
       "    </tr>\n",
       "  </tbody>\n",
       "</table>\n",
       "</div>"
      ],
      "text/plain": [
       "               Close   shift_1   shift_2   shift_3   shift_4   shift_5  \\\n",
       "Date                                                                     \n",
       "1962-01-16  0.048058  0.048934  0.049434  0.049810  0.049309  0.049059   \n",
       "1962-01-17  0.046556  0.048058  0.048934  0.049434  0.049810  0.049309   \n",
       "1962-01-18  0.045617  0.046556  0.048058  0.048934  0.049434  0.049810   \n",
       "1962-01-19  0.047057  0.045617  0.046556  0.048058  0.048934  0.049434   \n",
       "1962-01-22  0.047432  0.047057  0.045617  0.046556  0.048058  0.048934   \n",
       "\n",
       "             shift_6   shift_7   shift_8   shift_9  shift_10  \n",
       "Date                                                          \n",
       "1962-01-16  0.048183  0.048684  0.049810  0.049434  0.050561  \n",
       "1962-01-17  0.049059  0.048183  0.048684  0.049810  0.049434  \n",
       "1962-01-18  0.049309  0.049059  0.048183  0.048684  0.049810  \n",
       "1962-01-19  0.049810  0.049309  0.049059  0.048183  0.048684  \n",
       "1962-01-22  0.049434  0.049810  0.049309  0.049059  0.048183  "
      ]
     },
     "execution_count": 2,
     "metadata": {},
     "output_type": "execute_result"
    }
   ],
   "source": [
    "prediction_window = 10\n",
    "prediction_columns = ['Close']\n",
    "for i in range(1,prediction_window+1):\n",
    "  col_name = f'shift_{i}'\n",
    "  prediction_columns.append(col_name)\n",
    "  tickerDf[col_name] = tickerDf.Close.shift(i)\n",
    "data = tickerDf[prediction_columns]\n",
    "data = data.dropna()\n",
    "data.head()"
   ]
  },
  {
   "cell_type": "markdown",
   "metadata": {
    "id": "_LaunopPzU-g"
   },
   "source": [
    "# Стандартное разбиение данных и Линейная регрессия. Подсчет метрик MSE, MAE, MAPE. "
   ]
  },
  {
   "cell_type": "code",
   "execution_count": 3,
   "metadata": {
    "colab": {
     "base_uri": "https://localhost:8080/"
    },
    "id": "8AYNstQo3-u5",
    "outputId": "87992d6a-9382-4e97-d3df-eb838816540c"
   },
   "outputs": [
    {
     "name": "stdout",
     "output_type": "stream",
     "text": [
      "MSE = 0.1337431874237075\n",
      "MAE = 0.21953101139337902\n",
      "MAPE = 0.008098989540590762\n"
     ]
    }
   ],
   "source": [
    "from sklearn.model_selection import train_test_split\n",
    "from sklearn.linear_model import LinearRegression\n",
    "from sklearn.metrics import mean_squared_error\n",
    "from sklearn.metrics import mean_absolute_error\n",
    "from sklearn.metrics import mean_absolute_percentage_error\n",
    "X = data[prediction_columns[:-1]].values\n",
    "y = data[prediction_columns [-1]].values.reshape(-1, 1)\n",
    "x_train,x_test,y_train,y_test = train_test_split(X,y, test_size=0.33, random_state=42,shuffle=False)\n",
    "regressor = LinearRegression()\n",
    "regressor.fit(x_train,y_train)\n",
    "MSE = mean_squared_error(regressor.predict(x_test),y_test)\n",
    "MAE = mean_absolute_error(regressor.predict(x_test),y_test)\n",
    "MAPE = mean_absolute_percentage_error(regressor.predict(x_test),y_test)\n",
    "print(f\"MSE = {MSE}\")\n",
    "print(f\"MAE = {MAE}\")\n",
    "print(f\"MAPE = {MAPE}\")"
   ]
  },
  {
   "cell_type": "markdown",
   "metadata": {
    "id": "ymgz2D8kzlWc"
   },
   "source": [
    "# Преобразование бокса-кокса\n"
   ]
  },
  {
   "cell_type": "code",
   "execution_count": 4,
   "metadata": {
    "colab": {
     "base_uri": "https://localhost:8080/",
     "height": 297
    },
    "id": "2mEfGrd83Tly",
    "outputId": "ba94d111-f7dc-4714-9ba7-0a95ee27a47d"
   },
   "outputs": [
    {
     "data": {
      "text/plain": [
       "<AxesSubplot:xlabel='Date'>"
      ]
     },
     "execution_count": 4,
     "metadata": {},
     "output_type": "execute_result"
    },
    {
     "data": {
      "image/png": "[encoded data removed]",
      "text/plain": [
       "<Figure size 432x288 with 1 Axes>"
      ]
     },
     "metadata": {
      "needs_background": "light"
     },
     "output_type": "display_data"
    }
   ],
   "source": [
    "import pandas as pd\n",
    "from scipy.stats import boxcox\n",
    "data = tickerDf\n",
    "transformed, lambda_ = boxcox(data ['Close'].values)\n",
    "data['box_cox'] = transformed\n",
    "data.box_cox.plot()"
   ]
  },
  {
   "cell_type": "markdown",
   "metadata": {
    "id": "Rcg-KvBez6j9"
   },
   "source": [
    "# Дифференцирование временного ряда"
   ]
  },
  {
   "cell_type": "code",
   "execution_count": 5,
   "metadata": {
    "colab": {
     "base_uri": "https://localhost:8080/",
     "height": 287
    },
    "id": "vynsT5J23y5F",
    "outputId": "564343a5-7fda-4e0a-9a8c-34bf2caa920d"
   },
   "outputs": [
    {
     "data": {
      "text/plain": [
       "<AxesSubplot:xlabel='Date'>"
      ]
     },
     "execution_count": 5,
     "metadata": {},
     "output_type": "execute_result"
    },
    {
     "data": {
      "image/png": "[encoded data removed]",
      "text/plain": [
       "<Figure size 432x288 with 1 Axes>"
      ]
     },
     "metadata": {
      "needs_background": "light"
     },
     "output_type": "display_data"
    }
   ],
   "source": [
    "data['diff'] = data.Close.diff()\n",
    "data['diff'].plot()"
   ]
  },
  {
   "cell_type": "markdown",
   "metadata": {
    "id": "N34KjobVz9zB"
   },
   "source": [
    "# Долевое дифференцирование временного ряда"
   ]
  },
  {
   "cell_type": "code",
   "execution_count": 6,
   "metadata": {
    "colab": {
     "base_uri": "https://localhost:8080/",
     "height": 287
    },
    "id": "x1LqZyBE4kmo",
    "outputId": "4dcd92cf-fb54-4ba8-84cf-32a971698628"
   },
   "outputs": [
    {
     "data": {
      "text/plain": [
       "<AxesSubplot:xlabel='Date'>"
      ]
     },
     "execution_count": 6,
     "metadata": {},
     "output_type": "execute_result"
    },
    {
     "data": {
      "image/png": "[encoded data removed]",
      "text/plain": [
       "<Figure size 432x288 with 1 Axes>"
      ]
     },
     "metadata": {
      "needs_background": "light"
     },
     "output_type": "display_data"
    }
   ],
   "source": [
    "data['pct_change'] = data.Close.pct_change()\n",
    "data ['pct_change'].plot()"
   ]
  },
  {
   "cell_type": "markdown",
   "metadata": {
    "id": "QlmZnL0s0Ag-"
   },
   "source": [
    "# Стандартизация (z-преобразование)"
   ]
  },
  {
   "cell_type": "code",
   "execution_count": 7,
   "metadata": {
    "colab": {
     "base_uri": "https://localhost:8080/",
     "height": 287
    },
    "id": "Jackod144yqi",
    "outputId": "8796cc6b-e6d1-49f4-d584-faf746d364d0"
   },
   "outputs": [
    {
     "data": {
      "text/plain": [
       "<AxesSubplot:xlabel='Date'>"
      ]
     },
     "execution_count": 7,
     "metadata": {},
     "output_type": "execute_result"
    },
    {
     "data": {
      "image/png": "[encoded data removed]",
      "text/plain": [
       "<Figure size 432x288 with 1 Axes>"
      ]
     },
     "metadata": {
      "needs_background": "light"
     },
     "output_type": "display_data"
    }
   ],
   "source": [
    "from sklearn.preprocessing import StandardScaler\n",
    "scaler = StandardScaler()\n",
    "data['scaled'] = scaler.fit_transform(data.Close.values. reshape(-1,1))\n",
    "data['scaled'].plot()"
   ]
  },
  {
   "cell_type": "markdown",
   "metadata": {
    "id": "4FD38Ow40FY4"
   },
   "source": [
    "# Нормализация"
   ]
  },
  {
   "cell_type": "code",
   "execution_count": 8,
   "metadata": {
    "colab": {
     "base_uri": "https://localhost:8080/",
     "height": 287
    },
    "id": "j9Se421v6AYY",
    "outputId": "5d7e9c96-c62a-4569-ae4e-3c520399aad6"
   },
   "outputs": [
    {
     "data": {
      "text/plain": [
       "<AxesSubplot:xlabel='Date'>"
      ]
     },
     "execution_count": 8,
     "metadata": {},
     "output_type": "execute_result"
    },
    {
     "data": {
      "image/png": "[encoded data removed]",
      "text/plain": [
       "<Figure size 432x288 with 1 Axes>"
      ]
     },
     "metadata": {
      "needs_background": "light"
     },
     "output_type": "display_data"
    }
   ],
   "source": [
    "from sklearn.preprocessing import MinMaxScaler\n",
    "scaler = MinMaxScaler()\n",
    "data['min max_scaled'] = scaler.fit_transform(data.Close.values.reshape(-1,1))\n",
    "data['min max_scaled'].plot()"
   ]
  }
 ],
 "metadata": {
  "colab": {
   "collapsed_sections": [],
   "name": "fac_ml.ipynb",
   "provenance": []
  },
  "kernelspec": {
   "display_name": "Python 3 (ipykernel)",
   "language": "python",
   "name": "python3"
  },
  "language_info": {
   "codemirror_mode": {
    "name": "ipython",
    "version": 3
   },
   "file_extension": ".py",
   "mimetype": "text/x-python",
   "name": "python",
   "nbconvert_exporter": "python",
   "pygments_lexer": "ipython3",
   "version": "3.9.7"
  }
 },
 "nbformat": 4,
 "nbformat_minor": 1
}
